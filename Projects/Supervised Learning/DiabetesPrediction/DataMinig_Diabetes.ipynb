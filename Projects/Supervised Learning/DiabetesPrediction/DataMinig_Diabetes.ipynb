{
 "cells": [
  {
   "cell_type": "code",
   "execution_count": 52,
   "id": "7fcd9b72-aaa6-43ac-b9b7-57b3ed122b91",
   "metadata": {},
   "outputs": [],
   "source": [
    "import numpy as np\n",
    "import pandas as pd\n",
    "import matplotlib.pyplot as plt\n",
    "import seaborn as sns\n",
    "import sklearn\n",
    "from sklearn.model_selection import train_test_split\n",
    "from sklearn.impute import SimpleImputer"
   ]
  },
  {
   "cell_type": "code",
   "execution_count": 3,
   "id": "13e3ec5c-57aa-4b4e-80bb-5b043d2a4910",
   "metadata": {},
   "outputs": [],
   "source": [
    "import pandas as pd\n",
    "df = pd.read_csv(\"diabetes.csv\")"
   ]
  },
  {
   "cell_type": "code",
   "execution_count": 4,
   "id": "4ed2ba0e-4691-4c9d-8cbc-5170b89c13fa",
   "metadata": {},
   "outputs": [
    {
     "data": {
      "text/html": [
       "<div>\n",
       "<style scoped>\n",
       "    .dataframe tbody tr th:only-of-type {\n",
       "        vertical-align: middle;\n",
       "    }\n",
       "\n",
       "    .dataframe tbody tr th {\n",
       "        vertical-align: top;\n",
       "    }\n",
       "\n",
       "    .dataframe thead th {\n",
       "        text-align: right;\n",
       "    }\n",
       "</style>\n",
       "<table border=\"1\" class=\"dataframe\">\n",
       "  <thead>\n",
       "    <tr style=\"text-align: right;\">\n",
       "      <th></th>\n",
       "      <th>Pregnancies</th>\n",
       "      <th>Glucose</th>\n",
       "      <th>BloodPressure</th>\n",
       "      <th>SkinThickness</th>\n",
       "      <th>Insulin</th>\n",
       "      <th>BMI</th>\n",
       "      <th>DiabetesPedigreeFunction</th>\n",
       "      <th>Age</th>\n",
       "      <th>Outcome</th>\n",
       "    </tr>\n",
       "  </thead>\n",
       "  <tbody>\n",
       "    <tr>\n",
       "      <th>0</th>\n",
       "      <td>6</td>\n",
       "      <td>148</td>\n",
       "      <td>72</td>\n",
       "      <td>35</td>\n",
       "      <td>0</td>\n",
       "      <td>33.6</td>\n",
       "      <td>0.627</td>\n",
       "      <td>50</td>\n",
       "      <td>1</td>\n",
       "    </tr>\n",
       "    <tr>\n",
       "      <th>1</th>\n",
       "      <td>1</td>\n",
       "      <td>85</td>\n",
       "      <td>66</td>\n",
       "      <td>29</td>\n",
       "      <td>0</td>\n",
       "      <td>26.6</td>\n",
       "      <td>0.351</td>\n",
       "      <td>31</td>\n",
       "      <td>0</td>\n",
       "    </tr>\n",
       "    <tr>\n",
       "      <th>2</th>\n",
       "      <td>8</td>\n",
       "      <td>183</td>\n",
       "      <td>64</td>\n",
       "      <td>0</td>\n",
       "      <td>0</td>\n",
       "      <td>23.3</td>\n",
       "      <td>0.672</td>\n",
       "      <td>32</td>\n",
       "      <td>1</td>\n",
       "    </tr>\n",
       "    <tr>\n",
       "      <th>3</th>\n",
       "      <td>1</td>\n",
       "      <td>89</td>\n",
       "      <td>66</td>\n",
       "      <td>23</td>\n",
       "      <td>94</td>\n",
       "      <td>28.1</td>\n",
       "      <td>0.167</td>\n",
       "      <td>21</td>\n",
       "      <td>0</td>\n",
       "    </tr>\n",
       "    <tr>\n",
       "      <th>4</th>\n",
       "      <td>0</td>\n",
       "      <td>137</td>\n",
       "      <td>40</td>\n",
       "      <td>35</td>\n",
       "      <td>168</td>\n",
       "      <td>43.1</td>\n",
       "      <td>2.288</td>\n",
       "      <td>33</td>\n",
       "      <td>1</td>\n",
       "    </tr>\n",
       "    <tr>\n",
       "      <th>...</th>\n",
       "      <td>...</td>\n",
       "      <td>...</td>\n",
       "      <td>...</td>\n",
       "      <td>...</td>\n",
       "      <td>...</td>\n",
       "      <td>...</td>\n",
       "      <td>...</td>\n",
       "      <td>...</td>\n",
       "      <td>...</td>\n",
       "    </tr>\n",
       "    <tr>\n",
       "      <th>763</th>\n",
       "      <td>10</td>\n",
       "      <td>101</td>\n",
       "      <td>76</td>\n",
       "      <td>48</td>\n",
       "      <td>180</td>\n",
       "      <td>32.9</td>\n",
       "      <td>0.171</td>\n",
       "      <td>63</td>\n",
       "      <td>0</td>\n",
       "    </tr>\n",
       "    <tr>\n",
       "      <th>764</th>\n",
       "      <td>2</td>\n",
       "      <td>122</td>\n",
       "      <td>70</td>\n",
       "      <td>27</td>\n",
       "      <td>0</td>\n",
       "      <td>36.8</td>\n",
       "      <td>0.340</td>\n",
       "      <td>27</td>\n",
       "      <td>0</td>\n",
       "    </tr>\n",
       "    <tr>\n",
       "      <th>765</th>\n",
       "      <td>5</td>\n",
       "      <td>121</td>\n",
       "      <td>72</td>\n",
       "      <td>23</td>\n",
       "      <td>112</td>\n",
       "      <td>26.2</td>\n",
       "      <td>0.245</td>\n",
       "      <td>30</td>\n",
       "      <td>0</td>\n",
       "    </tr>\n",
       "    <tr>\n",
       "      <th>766</th>\n",
       "      <td>1</td>\n",
       "      <td>126</td>\n",
       "      <td>60</td>\n",
       "      <td>0</td>\n",
       "      <td>0</td>\n",
       "      <td>30.1</td>\n",
       "      <td>0.349</td>\n",
       "      <td>47</td>\n",
       "      <td>1</td>\n",
       "    </tr>\n",
       "    <tr>\n",
       "      <th>767</th>\n",
       "      <td>1</td>\n",
       "      <td>93</td>\n",
       "      <td>70</td>\n",
       "      <td>31</td>\n",
       "      <td>0</td>\n",
       "      <td>30.4</td>\n",
       "      <td>0.315</td>\n",
       "      <td>23</td>\n",
       "      <td>0</td>\n",
       "    </tr>\n",
       "  </tbody>\n",
       "</table>\n",
       "<p>768 rows × 9 columns</p>\n",
       "</div>"
      ],
      "text/plain": [
       "     Pregnancies  Glucose  BloodPressure  SkinThickness  Insulin   BMI  \\\n",
       "0              6      148             72             35        0  33.6   \n",
       "1              1       85             66             29        0  26.6   \n",
       "2              8      183             64              0        0  23.3   \n",
       "3              1       89             66             23       94  28.1   \n",
       "4              0      137             40             35      168  43.1   \n",
       "..           ...      ...            ...            ...      ...   ...   \n",
       "763           10      101             76             48      180  32.9   \n",
       "764            2      122             70             27        0  36.8   \n",
       "765            5      121             72             23      112  26.2   \n",
       "766            1      126             60              0        0  30.1   \n",
       "767            1       93             70             31        0  30.4   \n",
       "\n",
       "     DiabetesPedigreeFunction  Age  Outcome  \n",
       "0                       0.627   50        1  \n",
       "1                       0.351   31        0  \n",
       "2                       0.672   32        1  \n",
       "3                       0.167   21        0  \n",
       "4                       2.288   33        1  \n",
       "..                        ...  ...      ...  \n",
       "763                     0.171   63        0  \n",
       "764                     0.340   27        0  \n",
       "765                     0.245   30        0  \n",
       "766                     0.349   47        1  \n",
       "767                     0.315   23        0  \n",
       "\n",
       "[768 rows x 9 columns]"
      ]
     },
     "execution_count": 4,
     "metadata": {},
     "output_type": "execute_result"
    }
   ],
   "source": [
    "df"
   ]
  },
  {
   "cell_type": "markdown",
   "id": "228ad1a3-9dac-4505-8a25-fd4e137af50b",
   "metadata": {},
   "source": [
    "### Epore the data"
   ]
  },
  {
   "cell_type": "markdown",
   "id": "fbf55b52-55e2-48b8-aeec-bde68f13f305",
   "metadata": {},
   "source": [
    "##### Displays top 5 rows in the dataset"
   ]
  },
  {
   "cell_type": "code",
   "execution_count": 8,
   "id": "ce7b3077-c718-499f-aac4-9f55ee21f4cc",
   "metadata": {},
   "outputs": [
    {
     "data": {
      "text/html": [
       "<div>\n",
       "<style scoped>\n",
       "    .dataframe tbody tr th:only-of-type {\n",
       "        vertical-align: middle;\n",
       "    }\n",
       "\n",
       "    .dataframe tbody tr th {\n",
       "        vertical-align: top;\n",
       "    }\n",
       "\n",
       "    .dataframe thead th {\n",
       "        text-align: right;\n",
       "    }\n",
       "</style>\n",
       "<table border=\"1\" class=\"dataframe\">\n",
       "  <thead>\n",
       "    <tr style=\"text-align: right;\">\n",
       "      <th></th>\n",
       "      <th>Pregnancies</th>\n",
       "      <th>Glucose</th>\n",
       "      <th>BloodPressure</th>\n",
       "      <th>SkinThickness</th>\n",
       "      <th>Insulin</th>\n",
       "      <th>BMI</th>\n",
       "      <th>DiabetesPedigreeFunction</th>\n",
       "      <th>Age</th>\n",
       "      <th>Outcome</th>\n",
       "    </tr>\n",
       "  </thead>\n",
       "  <tbody>\n",
       "    <tr>\n",
       "      <th>0</th>\n",
       "      <td>6</td>\n",
       "      <td>148</td>\n",
       "      <td>72</td>\n",
       "      <td>35</td>\n",
       "      <td>0</td>\n",
       "      <td>33.6</td>\n",
       "      <td>0.627</td>\n",
       "      <td>50</td>\n",
       "      <td>1</td>\n",
       "    </tr>\n",
       "    <tr>\n",
       "      <th>1</th>\n",
       "      <td>1</td>\n",
       "      <td>85</td>\n",
       "      <td>66</td>\n",
       "      <td>29</td>\n",
       "      <td>0</td>\n",
       "      <td>26.6</td>\n",
       "      <td>0.351</td>\n",
       "      <td>31</td>\n",
       "      <td>0</td>\n",
       "    </tr>\n",
       "    <tr>\n",
       "      <th>2</th>\n",
       "      <td>8</td>\n",
       "      <td>183</td>\n",
       "      <td>64</td>\n",
       "      <td>0</td>\n",
       "      <td>0</td>\n",
       "      <td>23.3</td>\n",
       "      <td>0.672</td>\n",
       "      <td>32</td>\n",
       "      <td>1</td>\n",
       "    </tr>\n",
       "    <tr>\n",
       "      <th>3</th>\n",
       "      <td>1</td>\n",
       "      <td>89</td>\n",
       "      <td>66</td>\n",
       "      <td>23</td>\n",
       "      <td>94</td>\n",
       "      <td>28.1</td>\n",
       "      <td>0.167</td>\n",
       "      <td>21</td>\n",
       "      <td>0</td>\n",
       "    </tr>\n",
       "    <tr>\n",
       "      <th>4</th>\n",
       "      <td>0</td>\n",
       "      <td>137</td>\n",
       "      <td>40</td>\n",
       "      <td>35</td>\n",
       "      <td>168</td>\n",
       "      <td>43.1</td>\n",
       "      <td>2.288</td>\n",
       "      <td>33</td>\n",
       "      <td>1</td>\n",
       "    </tr>\n",
       "  </tbody>\n",
       "</table>\n",
       "</div>"
      ],
      "text/plain": [
       "   Pregnancies  Glucose  BloodPressure  SkinThickness  Insulin   BMI  \\\n",
       "0            6      148             72             35        0  33.6   \n",
       "1            1       85             66             29        0  26.6   \n",
       "2            8      183             64              0        0  23.3   \n",
       "3            1       89             66             23       94  28.1   \n",
       "4            0      137             40             35      168  43.1   \n",
       "\n",
       "   DiabetesPedigreeFunction  Age  Outcome  \n",
       "0                     0.627   50        1  \n",
       "1                     0.351   31        0  \n",
       "2                     0.672   32        1  \n",
       "3                     0.167   21        0  \n",
       "4                     2.288   33        1  "
      ]
     },
     "execution_count": 8,
     "metadata": {},
     "output_type": "execute_result"
    }
   ],
   "source": [
    "df.head ()"
   ]
  },
  {
   "cell_type": "markdown",
   "id": "8031e00a-7bcb-4f67-b820-7a81859e09b1",
   "metadata": {},
   "source": [
    "##### Displays dimensions of the dataset"
   ]
  },
  {
   "cell_type": "code",
   "execution_count": 9,
   "id": "8b6deaca-ec21-4a8a-b680-86e779ec8ca6",
   "metadata": {},
   "outputs": [
    {
     "data": {
      "text/plain": [
       "(768, 9)"
      ]
     },
     "execution_count": 9,
     "metadata": {},
     "output_type": "execute_result"
    }
   ],
   "source": [
    "df.shape"
   ]
  },
  {
   "cell_type": "markdown",
   "id": "34025028-1216-4c24-a4a7-a7f357ffb71d",
   "metadata": {},
   "source": [
    "#### We can see that there are 768 rows of data which means there are 768 samples or records in this data and 7 columns which means there are 7 features or data points for each fruit."
   ]
  },
  {
   "cell_type": "markdown",
   "id": "49878c4c-7206-49f0-beb1-8c29554c924d",
   "metadata": {},
   "source": [
    "##### Displays column names in the dataset\n"
   ]
  },
  {
   "cell_type": "code",
   "execution_count": 10,
   "id": "fc834863-bb05-41d9-a67e-7d623ab3dd52",
   "metadata": {},
   "outputs": [
    {
     "data": {
      "text/plain": [
       "Index(['Pregnancies', 'Glucose', 'BloodPressure', 'SkinThickness', 'Insulin',\n",
       "       'BMI', 'DiabetesPedigreeFunction', 'Age', 'Outcome'],\n",
       "      dtype='object')"
      ]
     },
     "execution_count": 10,
     "metadata": {},
     "output_type": "execute_result"
    }
   ],
   "source": [
    "df.columns"
   ]
  },
  {
   "cell_type": "markdown",
   "id": "332d61ec-f3c9-4ce1-9369-6b4ee490fe5c",
   "metadata": {},
   "source": [
    "##### Displays information about column attributes"
   ]
  },
  {
   "cell_type": "code",
   "execution_count": 11,
   "id": "dbf8b540-f40f-4fc0-b48d-9e2323650882",
   "metadata": {},
   "outputs": [
    {
     "name": "stdout",
     "output_type": "stream",
     "text": [
      "<class 'pandas.core.frame.DataFrame'>\n",
      "RangeIndex: 768 entries, 0 to 767\n",
      "Data columns (total 9 columns):\n",
      " #   Column                    Non-Null Count  Dtype  \n",
      "---  ------                    --------------  -----  \n",
      " 0   Pregnancies               768 non-null    int64  \n",
      " 1   Glucose                   768 non-null    int64  \n",
      " 2   BloodPressure             768 non-null    int64  \n",
      " 3   SkinThickness             768 non-null    int64  \n",
      " 4   Insulin                   768 non-null    int64  \n",
      " 5   BMI                       768 non-null    float64\n",
      " 6   DiabetesPedigreeFunction  768 non-null    float64\n",
      " 7   Age                       768 non-null    int64  \n",
      " 8   Outcome                   768 non-null    int64  \n",
      "dtypes: float64(2), int64(7)\n",
      "memory usage: 54.1 KB\n"
     ]
    }
   ],
   "source": [
    "df.info()"
   ]
  },
  {
   "cell_type": "markdown",
   "id": "7e927f58-e0e9-467f-aa40-9da688f8aa62",
   "metadata": {},
   "source": [
    "#### We can Continue exploring the data and get a count of all of the columns that contain empty (NaN, NAN, na) values"
   ]
  },
  {
   "cell_type": "markdown",
   "id": "411edb2e-3f8d-41ba-83fd-05318bbbcbb3",
   "metadata": {},
   "source": [
    "##### Count the empty values in each column"
   ]
  },
  {
   "cell_type": "code",
   "execution_count": 58,
   "id": "5d336e7f-105e-472c-8c2b-26f7bf07b120",
   "metadata": {},
   "outputs": [
    {
     "data": {
      "image/png": "[encoded data removed]",
      "text/plain": [
       "<Figure size 480.75x216 with 1 Axes>"
      ]
     },
     "metadata": {},
     "output_type": "display_data"
    },
    {
     "data": {
      "image/png": "[encoded data removed]",
      "text/plain": [
       "<Figure size 480.75x216 with 1 Axes>"
      ]
     },
     "metadata": {},
     "output_type": "display_data"
    }
   ],
   "source": [
    "def plotHistogram(values,label,feature,title):\n",
    "    sns.set_style(\"whitegrid\")\n",
    "    plotOne = sns.FacetGrid(values, hue=label,aspect=2)\n",
    "    plotOne.map(sns.histplot,feature,kde=False)\n",
    "    plotOne.set(xlim=(0, values[feature].max()))\n",
    "    plotOne.add_legend()\n",
    "    plotOne.set_axis_labels(feature, 'Proportion')\n",
    "    plotOne.fig.suptitle(title)\n",
    "    plt.show()\n",
    "plotHistogram(df,\"Outcome\",'Insulin','Insulin vs Diagnosis (Blue = Healthy; Orange = Diabetes)')\n",
    "plotHistogram(df,\"Outcome\",'SkinThickness','SkinThickness vs Diagnosis (Blue = Healthy; Orange = Diabetes)')"
   ]
  },
  {
   "cell_type": "markdown",
   "id": "e9c1ab65-6bc4-49a7-b13d-56fe0d01a66f",
   "metadata": {},
   "source": [
    "#### It would be a serious medical problem if a patient had an insulin level and skin thickness measurement of zero. As such, we can conclude that this dataset uses the number zero to represent missing or null data. Here we can see that as many as half of the rows contain columns with missing data."
   ]
  },
  {
   "cell_type": "markdown",
   "id": "278de6be-2f4e-454e-8c1f-591101e92146",
   "metadata": {},
   "source": [
    "#### Outcome is the column that we are going to predict with the help of other columns. Let us explore the different possible values in that column"
   ]
  },
  {
   "cell_type": "code",
   "execution_count": 40,
   "id": "8eca0bb1-d29b-4d27-b8a6-79587326efe1",
   "metadata": {},
   "outputs": [
    {
     "name": "stdout",
     "output_type": "stream",
     "text": [
      "# of Rows, # of Columns:  (768, 8)\n",
      "\n",
      "Column Name           # of Null Values\n",
      "\n",
      "Pregnancies                 111\n",
      "Glucose                       5\n",
      "BloodPressure                35\n",
      "SkinThickness               227\n",
      "Insulin                     374\n",
      "BMI                          11\n",
      "DiabetesPedigreeFunction      0\n",
      "Age                           0\n",
      "dtype: int64\n"
     ]
    }
   ],
   "source": [
    "dataset2 = df.iloc[:, :-1]\n",
    "print(\"# of Rows, # of Columns: \",dataset2.shape)\n",
    "print(\"\\nColumn Name           # of Null Values\\n\")\n",
    "print((dataset2[:] == 0).sum())"
   ]
  },
  {
   "cell_type": "code",
   "execution_count": 41,
   "id": "5a940d88-1aab-4cab-97de-93a400eb3752",
   "metadata": {},
   "outputs": [
    {
     "name": "stdout",
     "output_type": "stream",
     "text": [
      "# of Rows, # of Columns:  (768, 8)\n",
      "\n",
      "Column Name              % Null Values\n",
      "\n",
      "Pregnancies                 14.453125\n",
      "Glucose                      0.651042\n",
      "BloodPressure                4.557292\n",
      "SkinThickness               29.557292\n",
      "Insulin                     48.697917\n",
      "BMI                          1.432292\n",
      "DiabetesPedigreeFunction     0.000000\n",
      "Age                          0.000000\n",
      "dtype: float64\n"
     ]
    }
   ],
   "source": [
    "print(\"# of Rows, # of Columns: \",dataset2.shape)\n",
    "print(\"\\nColumn Name              % Null Values\\n\")\n",
    "print(((dataset2[:] == 0).sum())/768*100)"
   ]
  },
  {
   "cell_type": "markdown",
   "id": "c772d327-5806-4895-8aa8-86ae9e40cc30",
   "metadata": {},
   "source": [
    "Approximately 49% of the patients did not have their insulin levels measured. This causes me to be concerned that maybe the doctors only measured insulin levels in unhealthy looking patients or maybe they only measured insulin levels after having first made a preliminary diagnosis. If that were true then this would be a form of data leakage, and it would mean that our model would not generalize well to data collected from doctors who measure insulin levels for every patient."
   ]
  },
  {
   "cell_type": "markdown",
   "id": "76c518cc-c839-4662-b03e-18909b9ad454",
   "metadata": {},
   "source": [
    "### Check Data Leakage"
   ]
  },
  {
   "cell_type": "markdown",
   "id": "06299c75-22fe-4052-8184-632d40975f8a",
   "metadata": {},
   "source": [
    "In order to test this hypothesis I will check whether or not the Insulin and SkinThickness features are correlated with a diagnostic outcome (healthy/diabetic). What we find is that these features are not highly correlated with any given outcome -- and as such we can rule out our concern of data leakage."
   ]
  },
  {
   "cell_type": "code",
   "execution_count": 42,
   "id": "f377fd08-7643-4aaa-93a2-d73b771d6dbe",
   "metadata": {},
   "outputs": [
    {
     "data": {
      "image/png": "[encoded data removed]",
      "text/plain": [
       "<Figure size 432x288 with 2 Axes>"
      ]
     },
     "metadata": {},
     "output_type": "display_data"
    }
   ],
   "source": [
    "g = sns.heatmap(df.corr(),cmap=\"BrBG\",annot=False)"
   ]
  },
  {
   "cell_type": "code",
   "execution_count": 44,
   "id": "9d295b53-a43c-4ae5-a2ce-a05973b7bbb9",
   "metadata": {
    "tags": []
   },
   "outputs": [
    {
     "data": {
      "text/html": [
       "<div>\n",
       "<style scoped>\n",
       "    .dataframe tbody tr th:only-of-type {\n",
       "        vertical-align: middle;\n",
       "    }\n",
       "\n",
       "    .dataframe tbody tr th {\n",
       "        vertical-align: top;\n",
       "    }\n",
       "\n",
       "    .dataframe thead th {\n",
       "        text-align: right;\n",
       "    }\n",
       "</style>\n",
       "<table border=\"1\" class=\"dataframe\">\n",
       "  <thead>\n",
       "    <tr style=\"text-align: right;\">\n",
       "      <th></th>\n",
       "      <th>Pregnancies</th>\n",
       "      <th>Glucose</th>\n",
       "      <th>BloodPressure</th>\n",
       "      <th>SkinThickness</th>\n",
       "      <th>Insulin</th>\n",
       "      <th>BMI</th>\n",
       "      <th>DiabetesPedigreeFunction</th>\n",
       "      <th>Age</th>\n",
       "      <th>Outcome</th>\n",
       "    </tr>\n",
       "  </thead>\n",
       "  <tbody>\n",
       "    <tr>\n",
       "      <th>Pregnancies</th>\n",
       "      <td>1.000000</td>\n",
       "      <td>0.129459</td>\n",
       "      <td>0.141282</td>\n",
       "      <td>-0.081672</td>\n",
       "      <td>-0.073535</td>\n",
       "      <td>0.017683</td>\n",
       "      <td>-0.033523</td>\n",
       "      <td>0.544341</td>\n",
       "      <td>0.221898</td>\n",
       "    </tr>\n",
       "    <tr>\n",
       "      <th>Glucose</th>\n",
       "      <td>0.129459</td>\n",
       "      <td>1.000000</td>\n",
       "      <td>0.152590</td>\n",
       "      <td>0.057328</td>\n",
       "      <td>0.331357</td>\n",
       "      <td>0.221071</td>\n",
       "      <td>0.137337</td>\n",
       "      <td>0.263514</td>\n",
       "      <td>0.466581</td>\n",
       "    </tr>\n",
       "    <tr>\n",
       "      <th>BloodPressure</th>\n",
       "      <td>0.141282</td>\n",
       "      <td>0.152590</td>\n",
       "      <td>1.000000</td>\n",
       "      <td>0.207371</td>\n",
       "      <td>0.088933</td>\n",
       "      <td>0.281805</td>\n",
       "      <td>0.041265</td>\n",
       "      <td>0.239528</td>\n",
       "      <td>0.065068</td>\n",
       "    </tr>\n",
       "    <tr>\n",
       "      <th>SkinThickness</th>\n",
       "      <td>-0.081672</td>\n",
       "      <td>0.057328</td>\n",
       "      <td>0.207371</td>\n",
       "      <td>1.000000</td>\n",
       "      <td>0.436783</td>\n",
       "      <td>0.392573</td>\n",
       "      <td>0.183928</td>\n",
       "      <td>-0.113970</td>\n",
       "      <td>0.074752</td>\n",
       "    </tr>\n",
       "    <tr>\n",
       "      <th>Insulin</th>\n",
       "      <td>-0.073535</td>\n",
       "      <td>0.331357</td>\n",
       "      <td>0.088933</td>\n",
       "      <td>0.436783</td>\n",
       "      <td>1.000000</td>\n",
       "      <td>0.197859</td>\n",
       "      <td>0.185071</td>\n",
       "      <td>-0.042163</td>\n",
       "      <td>0.130548</td>\n",
       "    </tr>\n",
       "    <tr>\n",
       "      <th>BMI</th>\n",
       "      <td>0.017683</td>\n",
       "      <td>0.221071</td>\n",
       "      <td>0.281805</td>\n",
       "      <td>0.392573</td>\n",
       "      <td>0.197859</td>\n",
       "      <td>1.000000</td>\n",
       "      <td>0.140647</td>\n",
       "      <td>0.036242</td>\n",
       "      <td>0.292695</td>\n",
       "    </tr>\n",
       "    <tr>\n",
       "      <th>DiabetesPedigreeFunction</th>\n",
       "      <td>-0.033523</td>\n",
       "      <td>0.137337</td>\n",
       "      <td>0.041265</td>\n",
       "      <td>0.183928</td>\n",
       "      <td>0.185071</td>\n",
       "      <td>0.140647</td>\n",
       "      <td>1.000000</td>\n",
       "      <td>0.033561</td>\n",
       "      <td>0.173844</td>\n",
       "    </tr>\n",
       "    <tr>\n",
       "      <th>Age</th>\n",
       "      <td>0.544341</td>\n",
       "      <td>0.263514</td>\n",
       "      <td>0.239528</td>\n",
       "      <td>-0.113970</td>\n",
       "      <td>-0.042163</td>\n",
       "      <td>0.036242</td>\n",
       "      <td>0.033561</td>\n",
       "      <td>1.000000</td>\n",
       "      <td>0.238356</td>\n",
       "    </tr>\n",
       "    <tr>\n",
       "      <th>Outcome</th>\n",
       "      <td>0.221898</td>\n",
       "      <td>0.466581</td>\n",
       "      <td>0.065068</td>\n",
       "      <td>0.074752</td>\n",
       "      <td>0.130548</td>\n",
       "      <td>0.292695</td>\n",
       "      <td>0.173844</td>\n",
       "      <td>0.238356</td>\n",
       "      <td>1.000000</td>\n",
       "    </tr>\n",
       "  </tbody>\n",
       "</table>\n",
       "</div>"
      ],
      "text/plain": [
       "                          Pregnancies   Glucose  BloodPressure  SkinThickness  \\\n",
       "Pregnancies                  1.000000  0.129459       0.141282      -0.081672   \n",
       "Glucose                      0.129459  1.000000       0.152590       0.057328   \n",
       "BloodPressure                0.141282  0.152590       1.000000       0.207371   \n",
       "SkinThickness               -0.081672  0.057328       0.207371       1.000000   \n",
       "Insulin                     -0.073535  0.331357       0.088933       0.436783   \n",
       "BMI                          0.017683  0.221071       0.281805       0.392573   \n",
       "DiabetesPedigreeFunction    -0.033523  0.137337       0.041265       0.183928   \n",
       "Age                          0.544341  0.263514       0.239528      -0.113970   \n",
       "Outcome                      0.221898  0.466581       0.065068       0.074752   \n",
       "\n",
       "                           Insulin       BMI  DiabetesPedigreeFunction  \\\n",
       "Pregnancies              -0.073535  0.017683                 -0.033523   \n",
       "Glucose                   0.331357  0.221071                  0.137337   \n",
       "BloodPressure             0.088933  0.281805                  0.041265   \n",
       "SkinThickness             0.436783  0.392573                  0.183928   \n",
       "Insulin                   1.000000  0.197859                  0.185071   \n",
       "BMI                       0.197859  1.000000                  0.140647   \n",
       "DiabetesPedigreeFunction  0.185071  0.140647                  1.000000   \n",
       "Age                      -0.042163  0.036242                  0.033561   \n",
       "Outcome                   0.130548  0.292695                  0.173844   \n",
       "\n",
       "                               Age   Outcome  \n",
       "Pregnancies               0.544341  0.221898  \n",
       "Glucose                   0.263514  0.466581  \n",
       "BloodPressure             0.239528  0.065068  \n",
       "SkinThickness            -0.113970  0.074752  \n",
       "Insulin                  -0.042163  0.130548  \n",
       "BMI                       0.036242  0.292695  \n",
       "DiabetesPedigreeFunction  0.033561  0.173844  \n",
       "Age                       1.000000  0.238356  \n",
       "Outcome                   0.238356  1.000000  "
      ]
     },
     "execution_count": 44,
     "metadata": {},
     "output_type": "execute_result"
    }
   ],
   "source": [
    "df.corr()"
   ]
  },
  {
   "cell_type": "markdown",
   "id": "f9dde84e-ceca-4135-b381-1c65f25630d3",
   "metadata": {},
   "source": [
    "The Insulin and SkinThickness measurements are not highly correlated with any given outcome -- and as such we can rule out our concern of data leakage. The zero values in these categories are still erroneous, however, and therefore should not be included in our model. It is best to replace these values with some distribution of values near to the median measurement. Also note that it is best to impute these values after the train_test_split function in order to prevent yet another form of data leakage (i.e. the testing data should not be used when calculating the median value to use during imputation). The following histogram illustrates that the null values have indeed been replaced with median values."
   ]
  },
  {
   "cell_type": "code",
   "execution_count": 107,
   "id": "599160c0-23ce-41fe-878e-4a6083306e91",
   "metadata": {},
   "outputs": [
    {
     "data": {
      "image/png": "[encoded data removed]",
      "text/plain": [
       "<Figure size 440x216 with 1 Axes>"
      ]
     },
     "metadata": {},
     "output_type": "display_data"
    },
    {
     "data": {
      "image/png": "[encoded data removed]",
      "text/plain": [
       "<Figure size 440x216 with 1 Axes>"
      ]
     },
     "metadata": {},
     "output_type": "display_data"
    }
   ],
   "source": [
    "df = pd.read_csv(\"diabetes.csv\")\n",
    "X = df.iloc[:, :-1]\n",
    "y = df.iloc[:, -1]\n",
    "X_train, X_test, y_train, y_test = train_test_split(X, y, test_size=0.2, random_state=1)\n",
    "imputer = SimpleImputer(missing_values=0,strategy='median')\n",
    "X_train2 = imputer.fit_transform(X_train)\n",
    "X_test2 = imputer.transform(X_test)\n",
    "X_train3 = pd.DataFrame(X_train2)\n",
    "plotHistogram(X_train3,None,4,'Insulin vs Diagnosis (Blue = Healthy; Orange = Diabetes)')\n",
    "plotHistogram(X_train3,None,3,'SkinThickness vs Diagnosis (Blue = Healthy; Orange = Diabetes)')"
   ]
  },
  {
   "cell_type": "code",
   "execution_count": 108,
   "id": "b77b80f2-2dfc-4bb9-86fd-6fa13d237c16",
   "metadata": {},
   "outputs": [
    {
     "data": {
      "text/plain": [
       "(768,)"
      ]
     },
     "execution_count": 108,
     "metadata": {},
     "output_type": "execute_result"
    }
   ],
   "source": [
    "y.shape"
   ]
  },
  {
   "cell_type": "markdown",
   "id": "156e89d5-4b88-44d4-a779-e5773cdca757",
   "metadata": {},
   "source": [
    "#### Splitting the dataset"
   ]
  },
  {
   "cell_type": "code",
   "execution_count": 121,
   "id": "82e5fad7-23df-4670-97e3-a7015ac4d690",
   "metadata": {},
   "outputs": [],
   "source": [
    "from sklearn.model_selection import train_test_split\n",
    "X_train,X_test,y_train,y_test = train_test_split (X,y,test_size=0.3)"
   ]
  },
  {
   "cell_type": "code",
   "execution_count": 122,
   "id": "958d67eb-3bd4-4163-aeb1-48a4e21cd40a",
   "metadata": {},
   "outputs": [
    {
     "data": {
      "text/plain": [
       "(537, 8)"
      ]
     },
     "execution_count": 122,
     "metadata": {},
     "output_type": "execute_result"
    }
   ],
   "source": [
    "X_train.shape"
   ]
  },
  {
   "cell_type": "code",
   "execution_count": 123,
   "id": "1a3e07e4-5cd9-44eb-b5d8-7d68c479af3c",
   "metadata": {},
   "outputs": [
    {
     "data": {
      "text/plain": [
       "(231, 8)"
      ]
     },
     "execution_count": 123,
     "metadata": {},
     "output_type": "execute_result"
    }
   ],
   "source": [
    "X_test.shape"
   ]
  },
  {
   "cell_type": "markdown",
   "id": "008f01d6-6231-4677-a745-7f4f24b6afc3",
   "metadata": {},
   "source": [
    "#### Feature Scaling"
   ]
  },
  {
   "cell_type": "code",
   "execution_count": 124,
   "id": "eb3c62a4-62f4-4f37-97e4-ff529c4b249e",
   "metadata": {},
   "outputs": [],
   "source": [
    "#Feature Scaling of data\n",
    "from sklearn.preprocessing import StandardScaler \n",
    "ss = StandardScaler()\n",
    "x_train = ss.fit_transform (X_train)\n",
    "x_test = ss.fit_transform (X_test)\n"
   ]
  },
  {
   "cell_type": "code",
   "execution_count": 113,
   "id": "26a1d18f-cfeb-4ff0-b59b-bf403428ac6f",
   "metadata": {},
   "outputs": [
    {
     "data": {
      "text/plain": [
       "array([[ 0.06287503, -0.05099665, -0.0867185 , ..., -0.3328065 ,\n",
       "         0.67961434,  0.07876774],\n",
       "       [ 1.24757289, -0.05099665,  0.84984131, ..., -0.48565414,\n",
       "        -0.66359477, -0.92633984],\n",
       "       [-0.82564837,  1.28714388,  0.1214059 , ...,  0.86449994,\n",
       "         2.21087272, -0.00499122],\n",
       "       ...,\n",
       "       [ 1.24757289,  1.78505663,  0.1214059 , ...,  0.06204988,\n",
       "         0.70946343,  0.24628567],\n",
       "       [-0.23329944, -0.45555076, -0.3989051 , ..., -1.18620578,\n",
       "         0.58708215, -0.84258087],\n",
       "       [ 0.06287503, -0.82898533,  0.0173437 , ..., -0.01437394,\n",
       "         0.39007815, -0.75882191]])"
      ]
     },
     "execution_count": 113,
     "metadata": {},
     "output_type": "execute_result"
    }
   ],
   "source": [
    "x_train"
   ]
  },
  {
   "cell_type": "code",
   "execution_count": 114,
   "id": "329fcec8-8159-4f44-a819-ed0b504e83de",
   "metadata": {},
   "outputs": [
    {
     "data": {
      "text/plain": [
       "array([[ 0.60481979,  1.36176552, -0.29647434, ..., -0.90660172,\n",
       "        -0.84772182,  1.44631909],\n",
       "       [-0.59186862, -0.95894716,  1.13456748, ...,  0.25497661,\n",
       "        -0.49233615,  0.73810561],\n",
       "       [-0.29269652, -0.10060137,  0.3168293 , ..., -0.65408469,\n",
       "        -1.06905851, -0.85537473],\n",
       "       ...,\n",
       "       [ 1.8015082 ,  0.09014213,  0.52126384, ..., -0.48994862,\n",
       "         0.19349585,  1.00368567],\n",
       "       [ 0.30564769,  1.48892786,  0.21461202, ..., -0.71721395,\n",
       "         0.42730222,  1.53484578],\n",
       "       [ 0.30564769, -3.78830919,  0.62348111, ...,  1.20191546,\n",
       "        -0.32399557,  0.29547218]])"
      ]
     },
     "execution_count": 114,
     "metadata": {},
     "output_type": "execute_result"
    }
   ],
   "source": [
    "x_test"
   ]
  },
  {
   "cell_type": "code",
   "execution_count": 125,
   "id": "045924ad-de99-4552-a4d1-7929104db81f",
   "metadata": {},
   "outputs": [
    {
     "name": "stdout",
     "output_type": "stream",
     "text": [
      "(537,)\n"
     ]
    }
   ],
   "source": [
    "from sklearn import svm\n",
    "svc = svm.SVC ()\n",
    "#Loading the training data in the model\n",
    "svc.fit (x_train,y_train)\n",
    "print(y_train.shape)"
   ]
  },
  {
   "cell_type": "code",
   "execution_count": 126,
   "id": "c4e13eec-e10a-4a8c-8c68-f843a9e77b31",
   "metadata": {},
   "outputs": [],
   "source": [
    "# #Predicting output with test data\n",
    "# array=[6,148,72,35,0,33.6,0.627,50]\n",
    "# arr = np.array(array)\n",
    "\n",
    "# y_pred = svc.predict(arr.reshape(1, -1))\n",
    "# y_pred"
   ]
  },
  {
   "cell_type": "code",
   "execution_count": 142,
   "id": "5608b5a1-7d8e-42b0-918d-a695dc28751d",
   "metadata": {},
   "outputs": [
    {
     "name": "stdin",
     "output_type": "stream",
     "text": [
      "Enter Pregnancies: 9\n",
      "Enter Glucose: 171\n",
      "Enter BloodPressure: 110\n",
      "Enter Skin Thickness: 24\n",
      "Enter Insulin: 240\n",
      "Enter BMI: 45.4\n",
      "Enter DiabetesPedigreeFunction: 0.721\n",
      "Enter Age: 54\n"
     ]
    },
    {
     "name": "stdout",
     "output_type": "stream",
     "text": [
      "[1]\n",
      "The Person has diabetes\n"
     ]
    }
   ],
   "source": [
    "import numpy as np\n",
    "import pandas as pd\n",
    "from sklearn.model_selection import train_test_split\n",
    "from sklearn.linear_model import LogisticRegression\n",
    "from sklearn.metrics import accuracy_score\n",
    "\n",
    "svc = svm.SVC ()\n",
    "#Loading the training data in the model\n",
    "svc.fit (x_train,y_train)\n",
    "\n",
    "# Predicting the output with test data\n",
    "y_pred=svc.predict (X_test.values)\n",
    "# print (y_pred)\n",
    "#Calculating the accuracy of the predicted outcome\n",
    "#print (accuracy_score (Y_test,y_pred))\n",
    "input_data =[]\n",
    "Pregnancies=int(input(\"Enter Pregnancies:\"))\n",
    "input_data.append(Pregnancies)\n",
    "Glucose=int(input(\"Enter Glucose:\"))\n",
    "input_data.append(Glucose)\n",
    "BloodPressure=int(input(\"Enter BloodPressure:\"))\n",
    "input_data.append(BloodPressure)\n",
    "SkinThickness=int(input(\"Enter Skin Thickness:\"))\n",
    "input_data.append(SkinThickness)\n",
    "Insulin=int(input(\"Enter Insulin:\"))\n",
    "input_data.append(Insulin)\n",
    "BMI=float(input(\"Enter BMI:\"))\n",
    "input_data.append(BMI)\n",
    "DiabetesPedigreeFunction=float(input(\"Enter DiabetesPedigreeFunction:\"))\n",
    "input_data.append(DiabetesPedigreeFunction)\n",
    "Age=int(input(\"Enter Age:\"))\n",
    "input_data.append(Age)\n",
    "##############Predictive System##################################\n",
    "\n",
    "\n",
    "# for i in range(13):\n",
    "#     user_inp = [float(number) if '.' in number else int(number) for number in input(\"Enter Number: \").replace(',', ' ').split()]\n",
    "\n",
    "\n",
    "# Change the input data to a numpy array\n",
    "numpy_data= np.asarray (input_data)\n",
    "# reshape the numpy array as we are predicting for only on instance\n",
    "input_reshaped = numpy_data.reshape (1,-1)\n",
    "prediction = model.predict(input_reshaped)\n",
    "print(prediction)\n",
    "if (prediction[0]== 0):  \n",
    "    print ('The Person Does not have diabetes')\n",
    "else:  \n",
    "    print ('The Person has diabetes')\n",
    "    "
   ]
  },
  {
   "cell_type": "markdown",
   "id": "e943a5aa-f21f-4327-8e47-0d10faaf2c3a",
   "metadata": {},
   "source": [
    "#### Accuracy score"
   ]
  },
  {
   "cell_type": "code",
   "execution_count": 137,
   "id": "1679a9c8-382b-4bf6-b908-05c804a0ed10",
   "metadata": {},
   "outputs": [
    {
     "name": "stdout",
     "output_type": "stream",
     "text": [
      " Accuracy Score of Support vector classifier: \n",
      "0.658008658008658\n"
     ]
    }
   ],
   "source": [
    "#Accuracy Score of Support vector classifier\n",
    "from sklearn.metrics import accuracy_score\n",
    "print(\" Accuracy Score of Support vector classifier: \")\n",
    "print (accuracy_score (y_test,y_pred))"
   ]
  },
  {
   "cell_type": "markdown",
   "id": "d79da1e0-1137-4a88-b5c2-df06765c4431",
   "metadata": {},
   "source": [
    "### Logistic Regression"
   ]
  },
  {
   "cell_type": "code",
   "execution_count": 143,
   "id": "fece6f61-a631-47f2-93e3-c41b4299c155",
   "metadata": {},
   "outputs": [],
   "source": [
    "import numpy as np\n",
    "import pandas as pd\n",
    "from sklearn.model_selection import train_test_split\n",
    "from sklearn.linear_model import LogisticRegression\n",
    "from sklearn.metrics import accuracy_score\n"
   ]
  },
  {
   "cell_type": "code",
   "execution_count": 150,
   "id": "81be2364-2a4b-4f9d-ae67-0ab4f808ea0a",
   "metadata": {},
   "outputs": [
    {
     "name": "stdin",
     "output_type": "stream",
     "text": [
      "Enter Pregnancies: 9\n",
      "Enter Glucose: 171\n",
      "Enter BloodPressure: 124\n",
      "Enter Skin Thickness: 24\n",
      "Enter Insulin: 240\n",
      "Enter BMI: 45.4\n",
      "Enter DiabetesPedigreeFunction: 0.721\n",
      "Enter Age: 21\n"
     ]
    },
    {
     "name": "stdout",
     "output_type": "stream",
     "text": [
      "[1]\n",
      "The Person has diabetes\n"
     ]
    }
   ],
   "source": [
    "import numpy as np\n",
    "import pandas as pd\n",
    "from sklearn.model_selection import train_test_split\n",
    "from sklearn.linear_model import LogisticRegression\n",
    "from sklearn.metrics import accuracy_score\n",
    "\n",
    "model = LogisticRegression(solver='lbfgs', max_iter=1000)\n",
    "#Loading the training data in the model\n",
    "model.fit (x_train,y_train)\n",
    "\n",
    "# Predicting the output with test data\n",
    "y_pred=model.predict (X_test.values)\n",
    "# print (y_pred)\n",
    "#Calculating the accuracy of the predicted outcome\n",
    "#print (accuracy_score (Y_test,y_pred))\n",
    "input_data =[]\n",
    "Pregnancies=int(input(\"Enter Pregnancies:\"))\n",
    "input_data.append(Pregnancies)\n",
    "Glucose=int(input(\"Enter Glucose:\"))\n",
    "input_data.append(Glucose)\n",
    "BloodPressure=int(input(\"Enter BloodPressure:\"))\n",
    "input_data.append(BloodPressure)\n",
    "SkinThickness=int(input(\"Enter Skin Thickness:\"))\n",
    "input_data.append(SkinThickness)\n",
    "Insulin=int(input(\"Enter Insulin:\"))\n",
    "input_data.append(Insulin)\n",
    "BMI=float(input(\"Enter BMI:\"))\n",
    "input_data.append(BMI)\n",
    "DiabetesPedigreeFunction=float(input(\"Enter DiabetesPedigreeFunction:\"))\n",
    "input_data.append(DiabetesPedigreeFunction)\n",
    "Age=int(input(\"Enter Age:\"))\n",
    "input_data.append(Age)\n",
    "##############Predictive System##################################\n",
    "\n",
    "\n",
    "# for i in range(13):\n",
    "#     user_inp = [float(number) if '.' in number else int(number) for number in input(\"Enter Number: \").replace(',', ' ').split()]\n",
    "\n",
    "\n",
    "# Change the input data to a numpy array\n",
    "numpy_data= np.asarray (input_data)\n",
    "# reshape the numpy array as we are predicting for only on instance\n",
    "input_reshaped = numpy_data.reshape (1,-1)\n",
    "prediction = model.predict(input_reshaped)\n",
    "print(prediction)\n",
    "if (prediction[0]== 0):  \n",
    "    print ('The Person Does not have diabetes')\n",
    "else:  \n",
    "    print ('The Person has diabetes')"
   ]
  },
  {
   "cell_type": "code",
   "execution_count": 151,
   "id": "03e3bf1c-ff30-4393-81a5-a25c0ce1c549",
   "metadata": {},
   "outputs": [
    {
     "name": "stdout",
     "output_type": "stream",
     "text": [
      " Accuracy Score of Logistic Regression classifier: \n",
      "0.3463203463203463\n"
     ]
    }
   ],
   "source": [
    "#Accuracy Score of Support vector classifier\n",
    "from sklearn.metrics import accuracy_score\n",
    "print(\" Accuracy Score of Logistic Regression classifier: \")\n",
    "print (accuracy_score (y_test,y_pred))"
   ]
  },
  {
   "cell_type": "code",
   "execution_count": 146,
   "id": "35241d2e-257c-45de-9bdc-6c5c4f5163f4",
   "metadata": {},
   "outputs": [
    {
     "name": "stdin",
     "output_type": "stream",
     "text": [
      "Enter Pregnancies: 9\n",
      "Enter Glucose: 171\n",
      "Enter BloodPressure: 110\n",
      "Enter Skin Thickness: 24\n",
      "Enter Insulin: 240\n",
      "Enter BMI: 45.4\n",
      "Enter DiabetesPedigreeFunction: 0.721\n",
      "Enter Age: 54\n"
     ]
    },
    {
     "name": "stdout",
     "output_type": "stream",
     "text": [
      "[1]\n",
      "The Person has diabetes\n"
     ]
    }
   ],
   "source": [
    "from sklearn.tree import DecisionTreeClassifier\n",
    "\n",
    "clf = DecisionTreeClassifier()\n",
    "clf.fit (x_train,y_train)\n",
    "y_pred=clf.predict (X_test.values)\n",
    "# print (y_pred)\n",
    "#Calculating the accuracy of the predicted outcome\n",
    "#print (accuracy_score (Y_test,y_pred))\n",
    "input_data =[]\n",
    "Pregnancies=int(input(\"Enter Pregnancies:\"))\n",
    "input_data.append(Pregnancies)\n",
    "Glucose=int(input(\"Enter Glucose:\"))\n",
    "input_data.append(Glucose)\n",
    "BloodPressure=int(input(\"Enter BloodPressure:\"))\n",
    "input_data.append(BloodPressure)\n",
    "SkinThickness=int(input(\"Enter Skin Thickness:\"))\n",
    "input_data.append(SkinThickness)\n",
    "Insulin=int(input(\"Enter Insulin:\"))\n",
    "input_data.append(Insulin)\n",
    "BMI=float(input(\"Enter BMI:\"))\n",
    "input_data.append(BMI)\n",
    "DiabetesPedigreeFunction=float(input(\"Enter DiabetesPedigreeFunction:\"))\n",
    "input_data.append(DiabetesPedigreeFunction)\n",
    "Age=int(input(\"Enter Age:\"))\n",
    "input_data.append(Age)\n",
    "##############Predictive System##################################\n",
    "\n",
    "\n",
    "# for i in range(13):\n",
    "#     user_inp = [float(number) if '.' in number else int(number) for number in input(\"Enter Number: \").replace(',', ' ').split()]\n",
    "\n",
    "\n",
    "# Change the input data to a numpy array\n",
    "numpy_data= np.asarray (input_data)\n",
    "# reshape the numpy array as we are predicting for only on instance\n",
    "input_reshaped = numpy_data.reshape (1,-1)\n",
    "prediction = model.predict(input_reshaped)\n",
    "print(prediction)\n",
    "if (prediction[0]== 0):  \n",
    "    print ('The Person Does not have diabetes')\n",
    "else:  \n",
    "    print ('The Person has diabetes')"
   ]
  },
  {
   "cell_type": "code",
   "execution_count": 148,
   "id": "ea29c5ec-384d-4b9c-8ca4-b6de470cafba",
   "metadata": {},
   "outputs": [
    {
     "name": "stdout",
     "output_type": "stream",
     "text": [
      " Accuracy Score of DecisionTree classifier: \n",
      "0.5151515151515151\n"
     ]
    }
   ],
   "source": [
    "#Accuracy Score of Support vector classifier\n",
    "from sklearn.metrics import accuracy_score\n",
    "print(\" Accuracy Score of DecisionTree classifier: \")\n",
    "print (accuracy_score (y_test,y_pred))"
   ]
  },
  {
   "cell_type": "code",
   "execution_count": null,
   "id": "39392010-d989-426f-a45a-315f7b446633",
   "metadata": {},
   "outputs": [],
   "source": []
  }
 ],
 "metadata": {
  "kernelspec": {
   "display_name": "Python 3",
   "language": "python",
   "name": "python3"
  },
  "language_info": {
   "codemirror_mode": {
    "name": "ipython",
    "version": 3
   },
   "file_extension": ".py",
   "mimetype": "text/x-python",
   "name": "python",
   "nbconvert_exporter": "python",
   "pygments_lexer": "ipython3",
   "version": "3.9.1"
  }
 },
 "nbformat": 4,
 "nbformat_minor": 5
}
