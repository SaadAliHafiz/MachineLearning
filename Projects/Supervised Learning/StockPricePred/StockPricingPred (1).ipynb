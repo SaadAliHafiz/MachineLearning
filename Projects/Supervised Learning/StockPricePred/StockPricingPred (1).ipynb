{
 "cells": [
  {
   "cell_type": "markdown",
   "id": "f914f2ae-effe-42aa-a286-64c8b2f767a4",
   "metadata": {},
   "source": [
    "### Step 1: Importing required libraries"
   ]
  },
  {
   "cell_type": "code",
   "execution_count": 18,
   "id": "7478b140-a8c8-431b-bfab-655997959969",
   "metadata": {},
   "outputs": [],
   "source": [
    "import numpy as np\n",
    "import matplotlib.pyplot as plt\n",
    "import pandas as pd\n",
    "from sklearn import preprocessing\n",
    "from sklearn import metrics\n",
    "from sklearn.model_selection import train_test_split\n",
    "from sklearn.linear_model import LinearRegression\n",
    "import math"
   ]
  },
  {
   "cell_type": "markdown",
   "id": "c3b54eaa-431e-445e-b217-84e66ab0a0d6",
   "metadata": {},
   "source": [
    "### Step 2: Data Preparation And Visualization"
   ]
  },
  {
   "cell_type": "code",
   "execution_count": 6,
   "id": "8d75f05f-7f35-403b-9a9c-4f2be417a13a",
   "metadata": {},
   "outputs": [
    {
     "data": {
      "text/html": [
       "<div>\n",
       "<style scoped>\n",
       "    .dataframe tbody tr th:only-of-type {\n",
       "        vertical-align: middle;\n",
       "    }\n",
       "\n",
       "    .dataframe tbody tr th {\n",
       "        vertical-align: top;\n",
       "    }\n",
       "\n",
       "    .dataframe thead th {\n",
       "        text-align: right;\n",
       "    }\n",
       "</style>\n",
       "<table border=\"1\" class=\"dataframe\">\n",
       "  <thead>\n",
       "    <tr style=\"text-align: right;\">\n",
       "      <th></th>\n",
       "      <th>Date</th>\n",
       "      <th>Open</th>\n",
       "      <th>High</th>\n",
       "      <th>Low</th>\n",
       "      <th>Close</th>\n",
       "      <th>Adj Close</th>\n",
       "      <th>Volume</th>\n",
       "    </tr>\n",
       "  </thead>\n",
       "  <tbody>\n",
       "    <tr>\n",
       "      <th>0</th>\n",
       "      <td>2010-06-30</td>\n",
       "      <td>5.158000</td>\n",
       "      <td>6.084000</td>\n",
       "      <td>4.660000</td>\n",
       "      <td>4.766000</td>\n",
       "      <td>4.766000</td>\n",
       "      <td>85935500</td>\n",
       "    </tr>\n",
       "    <tr>\n",
       "      <th>1</th>\n",
       "      <td>2010-07-01</td>\n",
       "      <td>5.000000</td>\n",
       "      <td>5.184000</td>\n",
       "      <td>4.054000</td>\n",
       "      <td>4.392000</td>\n",
       "      <td>4.392000</td>\n",
       "      <td>41094000</td>\n",
       "    </tr>\n",
       "    <tr>\n",
       "      <th>2</th>\n",
       "      <td>2010-07-02</td>\n",
       "      <td>4.600000</td>\n",
       "      <td>4.620000</td>\n",
       "      <td>3.742000</td>\n",
       "      <td>3.840000</td>\n",
       "      <td>3.840000</td>\n",
       "      <td>25699000</td>\n",
       "    </tr>\n",
       "    <tr>\n",
       "      <th>3</th>\n",
       "      <td>2010-07-06</td>\n",
       "      <td>4.000000</td>\n",
       "      <td>4.000000</td>\n",
       "      <td>3.166000</td>\n",
       "      <td>3.222000</td>\n",
       "      <td>3.222000</td>\n",
       "      <td>34334500</td>\n",
       "    </tr>\n",
       "    <tr>\n",
       "      <th>4</th>\n",
       "      <td>2010-07-07</td>\n",
       "      <td>3.280000</td>\n",
       "      <td>3.326000</td>\n",
       "      <td>2.996000</td>\n",
       "      <td>3.160000</td>\n",
       "      <td>3.160000</td>\n",
       "      <td>34608500</td>\n",
       "    </tr>\n",
       "    <tr>\n",
       "      <th>...</th>\n",
       "      <td>...</td>\n",
       "      <td>...</td>\n",
       "      <td>...</td>\n",
       "      <td>...</td>\n",
       "      <td>...</td>\n",
       "      <td>...</td>\n",
       "      <td>...</td>\n",
       "    </tr>\n",
       "    <tr>\n",
       "      <th>2574</th>\n",
       "      <td>2020-09-21</td>\n",
       "      <td>453.130005</td>\n",
       "      <td>455.679993</td>\n",
       "      <td>407.070007</td>\n",
       "      <td>449.390015</td>\n",
       "      <td>449.390015</td>\n",
       "      <td>109476800</td>\n",
       "    </tr>\n",
       "    <tr>\n",
       "      <th>2575</th>\n",
       "      <td>2020-09-22</td>\n",
       "      <td>429.600006</td>\n",
       "      <td>437.760010</td>\n",
       "      <td>417.600006</td>\n",
       "      <td>424.230011</td>\n",
       "      <td>424.230011</td>\n",
       "      <td>79580800</td>\n",
       "    </tr>\n",
       "    <tr>\n",
       "      <th>2576</th>\n",
       "      <td>2020-09-23</td>\n",
       "      <td>405.160004</td>\n",
       "      <td>412.149994</td>\n",
       "      <td>375.880005</td>\n",
       "      <td>380.359985</td>\n",
       "      <td>380.359985</td>\n",
       "      <td>95074200</td>\n",
       "    </tr>\n",
       "    <tr>\n",
       "      <th>2577</th>\n",
       "      <td>2020-09-24</td>\n",
       "      <td>363.799988</td>\n",
       "      <td>399.500000</td>\n",
       "      <td>351.299988</td>\n",
       "      <td>387.790009</td>\n",
       "      <td>387.790009</td>\n",
       "      <td>96561100</td>\n",
       "    </tr>\n",
       "    <tr>\n",
       "      <th>2578</th>\n",
       "      <td>2020-09-25</td>\n",
       "      <td>393.470001</td>\n",
       "      <td>408.730011</td>\n",
       "      <td>391.299988</td>\n",
       "      <td>407.339996</td>\n",
       "      <td>407.339996</td>\n",
       "      <td>67068400</td>\n",
       "    </tr>\n",
       "  </tbody>\n",
       "</table>\n",
       "<p>2579 rows × 7 columns</p>\n",
       "</div>"
      ],
      "text/plain": [
       "            Date        Open        High         Low       Close   Adj Close  \\\n",
       "0     2010-06-30    5.158000    6.084000    4.660000    4.766000    4.766000   \n",
       "1     2010-07-01    5.000000    5.184000    4.054000    4.392000    4.392000   \n",
       "2     2010-07-02    4.600000    4.620000    3.742000    3.840000    3.840000   \n",
       "3     2010-07-06    4.000000    4.000000    3.166000    3.222000    3.222000   \n",
       "4     2010-07-07    3.280000    3.326000    2.996000    3.160000    3.160000   \n",
       "...          ...         ...         ...         ...         ...         ...   \n",
       "2574  2020-09-21  453.130005  455.679993  407.070007  449.390015  449.390015   \n",
       "2575  2020-09-22  429.600006  437.760010  417.600006  424.230011  424.230011   \n",
       "2576  2020-09-23  405.160004  412.149994  375.880005  380.359985  380.359985   \n",
       "2577  2020-09-24  363.799988  399.500000  351.299988  387.790009  387.790009   \n",
       "2578  2020-09-25  393.470001  408.730011  391.299988  407.339996  407.339996   \n",
       "\n",
       "         Volume  \n",
       "0      85935500  \n",
       "1      41094000  \n",
       "2      25699000  \n",
       "3      34334500  \n",
       "4      34608500  \n",
       "...         ...  \n",
       "2574  109476800  \n",
       "2575   79580800  \n",
       "2576   95074200  \n",
       "2577   96561100  \n",
       "2578   67068400  \n",
       "\n",
       "[2579 rows x 7 columns]"
      ]
     },
     "execution_count": 6,
     "metadata": {},
     "output_type": "execute_result"
    }
   ],
   "source": [
    "df=pd.read_csv(\"C:/Users/Saad/Downloads/TSLA.csv\")\n",
    "df"
   ]
  },
  {
   "cell_type": "code",
   "execution_count": 7,
   "id": "7e0cbe4d-a4ed-43c1-bd46-444dbc2151e8",
   "metadata": {},
   "outputs": [
    {
     "name": "stdout",
     "output_type": "stream",
     "text": [
      "<class 'pandas.core.frame.DataFrame'>\n",
      "RangeIndex: 2579 entries, 0 to 2578\n",
      "Data columns (total 7 columns):\n",
      " #   Column     Non-Null Count  Dtype  \n",
      "---  ------     --------------  -----  \n",
      " 0   Date       2579 non-null   object \n",
      " 1   Open       2579 non-null   float64\n",
      " 2   High       2579 non-null   float64\n",
      " 3   Low        2579 non-null   float64\n",
      " 4   Close      2579 non-null   float64\n",
      " 5   Adj Close  2579 non-null   float64\n",
      " 6   Volume     2579 non-null   int64  \n",
      "dtypes: float64(5), int64(1), object(1)\n",
      "memory usage: 141.2+ KB\n"
     ]
    }
   ],
   "source": [
    "df.info()"
   ]
  },
  {
   "cell_type": "code",
   "execution_count": 9,
   "id": "91c4f56f-8d94-4693-88c2-3991f3704c65",
   "metadata": {},
   "outputs": [
    {
     "data": {
      "text/html": [
       "<div>\n",
       "<style scoped>\n",
       "    .dataframe tbody tr th:only-of-type {\n",
       "        vertical-align: middle;\n",
       "    }\n",
       "\n",
       "    .dataframe tbody tr th {\n",
       "        vertical-align: top;\n",
       "    }\n",
       "\n",
       "    .dataframe thead th {\n",
       "        text-align: right;\n",
       "    }\n",
       "</style>\n",
       "<table border=\"1\" class=\"dataframe\">\n",
       "  <thead>\n",
       "    <tr style=\"text-align: right;\">\n",
       "      <th></th>\n",
       "      <th>Open</th>\n",
       "      <th>High</th>\n",
       "      <th>Low</th>\n",
       "      <th>Close</th>\n",
       "      <th>Adj Close</th>\n",
       "      <th>Volume</th>\n",
       "    </tr>\n",
       "  </thead>\n",
       "  <tbody>\n",
       "    <tr>\n",
       "      <th>count</th>\n",
       "      <td>2579.000000</td>\n",
       "      <td>2579.000000</td>\n",
       "      <td>2579.000000</td>\n",
       "      <td>2579.000000</td>\n",
       "      <td>2579.000000</td>\n",
       "      <td>2.579000e+03</td>\n",
       "    </tr>\n",
       "    <tr>\n",
       "      <th>mean</th>\n",
       "      <td>49.206686</td>\n",
       "      <td>50.301806</td>\n",
       "      <td>48.073117</td>\n",
       "      <td>49.253279</td>\n",
       "      <td>49.253279</td>\n",
       "      <td>3.078217e+07</td>\n",
       "    </tr>\n",
       "    <tr>\n",
       "      <th>std</th>\n",
       "      <td>57.934102</td>\n",
       "      <td>59.888383</td>\n",
       "      <td>55.852349</td>\n",
       "      <td>58.119783</td>\n",
       "      <td>58.119783</td>\n",
       "      <td>2.855717e+07</td>\n",
       "    </tr>\n",
       "    <tr>\n",
       "      <th>min</th>\n",
       "      <td>3.228000</td>\n",
       "      <td>3.326000</td>\n",
       "      <td>2.996000</td>\n",
       "      <td>3.160000</td>\n",
       "      <td>3.160000</td>\n",
       "      <td>5.925000e+05</td>\n",
       "    </tr>\n",
       "    <tr>\n",
       "      <th>25%</th>\n",
       "      <td>7.159000</td>\n",
       "      <td>7.268000</td>\n",
       "      <td>6.989000</td>\n",
       "      <td>7.153000</td>\n",
       "      <td>7.153000</td>\n",
       "      <td>1.047400e+07</td>\n",
       "    </tr>\n",
       "    <tr>\n",
       "      <th>50%</th>\n",
       "      <td>44.001999</td>\n",
       "      <td>44.660000</td>\n",
       "      <td>43.301998</td>\n",
       "      <td>43.924000</td>\n",
       "      <td>43.924000</td>\n",
       "      <td>2.413100e+07</td>\n",
       "    </tr>\n",
       "    <tr>\n",
       "      <th>75%</th>\n",
       "      <td>59.339000</td>\n",
       "      <td>60.171000</td>\n",
       "      <td>57.841000</td>\n",
       "      <td>59.020000</td>\n",
       "      <td>59.020000</td>\n",
       "      <td>3.979150e+07</td>\n",
       "    </tr>\n",
       "    <tr>\n",
       "      <th>max</th>\n",
       "      <td>502.140015</td>\n",
       "      <td>502.489990</td>\n",
       "      <td>470.510010</td>\n",
       "      <td>498.320007</td>\n",
       "      <td>498.320007</td>\n",
       "      <td>3.046940e+08</td>\n",
       "    </tr>\n",
       "  </tbody>\n",
       "</table>\n",
       "</div>"
      ],
      "text/plain": [
       "              Open         High          Low        Close    Adj Close  \\\n",
       "count  2579.000000  2579.000000  2579.000000  2579.000000  2579.000000   \n",
       "mean     49.206686    50.301806    48.073117    49.253279    49.253279   \n",
       "std      57.934102    59.888383    55.852349    58.119783    58.119783   \n",
       "min       3.228000     3.326000     2.996000     3.160000     3.160000   \n",
       "25%       7.159000     7.268000     6.989000     7.153000     7.153000   \n",
       "50%      44.001999    44.660000    43.301998    43.924000    43.924000   \n",
       "75%      59.339000    60.171000    57.841000    59.020000    59.020000   \n",
       "max     502.140015   502.489990   470.510010   498.320007   498.320007   \n",
       "\n",
       "             Volume  \n",
       "count  2.579000e+03  \n",
       "mean   3.078217e+07  \n",
       "std    2.855717e+07  \n",
       "min    5.925000e+05  \n",
       "25%    1.047400e+07  \n",
       "50%    2.413100e+07  \n",
       "75%    3.979150e+07  \n",
       "max    3.046940e+08  "
      ]
     },
     "execution_count": 9,
     "metadata": {},
     "output_type": "execute_result"
    }
   ],
   "source": [
    "df.describe()"
   ]
  },
  {
   "cell_type": "markdown",
   "id": "f82d38e0-c7c1-466a-ad2c-0aba99992130",
   "metadata": {},
   "source": [
    "### Step 3: Splitting Data In X and Y"
   ]
  },
  {
   "cell_type": "code",
   "execution_count": 10,
   "id": "69236864-5728-466b-b788-2a3a4e00be91",
   "metadata": {},
   "outputs": [
    {
     "name": "stdout",
     "output_type": "stream",
     "text": [
      "[[6.08400000e+00 4.66000000e+00 5.15800000e+00 8.59355000e+07]\n",
      " [5.18400000e+00 4.05400000e+00 5.00000000e+00 4.10940000e+07]\n",
      " [4.62000000e+00 3.74200000e+00 4.60000000e+00 2.56990000e+07]\n",
      " ...\n",
      " [4.12149994e+02 3.75880005e+02 4.05160004e+02 9.50742000e+07]\n",
      " [3.99500000e+02 3.51299988e+02 3.63799988e+02 9.65611000e+07]\n",
      " [4.08730011e+02 3.91299988e+02 3.93470001e+02 6.70684000e+07]]\n"
     ]
    }
   ],
   "source": [
    "X = df[['High','Low','Open','Volume']].values\n",
    "y = df['Close'].values\n",
    "print(X)"
   ]
  },
  {
   "cell_type": "code",
   "execution_count": 11,
   "id": "1ad429b7-b95e-4901-b37c-dc0d3bf71893",
   "metadata": {},
   "outputs": [
    {
     "name": "stdout",
     "output_type": "stream",
     "text": [
      "[  4.766      4.392      3.84     ... 380.359985 387.790009 407.339996]\n"
     ]
    }
   ],
   "source": [
    "print(y)"
   ]
  },
  {
   "cell_type": "markdown",
   "id": "b0c1b3ad-7081-4bd9-ba95-74ee59e0a813",
   "metadata": {},
   "source": [
    "## Applying Machine Learning Algorithms for stock market prediction"
   ]
  },
  {
   "cell_type": "markdown",
   "id": "d6cb46d7-25c9-4b8e-9694-5d122a847e15",
   "metadata": {},
   "source": [
    "### Step 4: Test-Train Split"
   ]
  },
  {
   "cell_type": "code",
   "execution_count": 13,
   "id": "8b41f2ef-4738-4448-b612-6ffe11622cb2",
   "metadata": {},
   "outputs": [],
   "source": [
    "X_train, X_test, y_train, y_test = train_test_split(X,y, test_size=0.3, random_state=1)"
   ]
  },
  {
   "cell_type": "markdown",
   "id": "2096a8fa-9a30-4547-85b5-36af1c231062",
   "metadata": {},
   "source": [
    "### Step 5: Training the Model"
   ]
  },
  {
   "cell_type": "code",
   "execution_count": null,
   "id": "1768cde7-e196-478f-bd71-0c398c656e27",
   "metadata": {},
   "outputs": [],
   "source": [
    "#from sklearn.linear_model import LinearRegression\n",
    "# Create Regression Model \n",
    "Model = LinearRegression()\n",
    "\n",
    "# Train the model\n",
    "Model.fit(X_train, y_train)\n",
    "#Printing Coefficient\n",
    "print(Model.coef_)\n",
    "\n",
    "# Use model to make predictions\n",
    "predicted = Model.predict(X_test) \n",
    "print(predicted)"
   ]
  },
  {
   "cell_type": "markdown",
   "id": "e8772dfc-f318-427d-a8ca-d4c01c0012d7",
   "metadata": {},
   "source": [
    "### Step 6: Combining The Actual and Predicted data to match"
   ]
  },
  {
   "cell_type": "code",
   "execution_count": 16,
   "id": "ec81c406-ab38-4258-adcf-2b3e67371c72",
   "metadata": {},
   "outputs": [
    {
     "data": {
      "text/html": [
       "<div>\n",
       "<style scoped>\n",
       "    .dataframe tbody tr th:only-of-type {\n",
       "        vertical-align: middle;\n",
       "    }\n",
       "\n",
       "    .dataframe tbody tr th {\n",
       "        vertical-align: top;\n",
       "    }\n",
       "\n",
       "    .dataframe thead th {\n",
       "        text-align: right;\n",
       "    }\n",
       "</style>\n",
       "<table border=\"1\" class=\"dataframe\">\n",
       "  <thead>\n",
       "    <tr style=\"text-align: right;\">\n",
       "      <th></th>\n",
       "      <th>Actual</th>\n",
       "      <th>Predicted</th>\n",
       "    </tr>\n",
       "  </thead>\n",
       "  <tbody>\n",
       "    <tr>\n",
       "      <th>0</th>\n",
       "      <td>48.598000</td>\n",
       "      <td>48.287104</td>\n",
       "    </tr>\n",
       "    <tr>\n",
       "      <th>1</th>\n",
       "      <td>5.348000</td>\n",
       "      <td>5.467965</td>\n",
       "    </tr>\n",
       "    <tr>\n",
       "      <th>2</th>\n",
       "      <td>68.570000</td>\n",
       "      <td>67.815196</td>\n",
       "    </tr>\n",
       "    <tr>\n",
       "      <th>3</th>\n",
       "      <td>6.430000</td>\n",
       "      <td>6.689864</td>\n",
       "    </tr>\n",
       "    <tr>\n",
       "      <th>4</th>\n",
       "      <td>49.812000</td>\n",
       "      <td>50.574754</td>\n",
       "    </tr>\n",
       "    <tr>\n",
       "      <th>5</th>\n",
       "      <td>50.004002</td>\n",
       "      <td>50.158020</td>\n",
       "    </tr>\n",
       "    <tr>\n",
       "      <th>6</th>\n",
       "      <td>41.400002</td>\n",
       "      <td>41.855932</td>\n",
       "    </tr>\n",
       "    <tr>\n",
       "      <th>7</th>\n",
       "      <td>24.690001</td>\n",
       "      <td>24.425176</td>\n",
       "    </tr>\n",
       "    <tr>\n",
       "      <th>8</th>\n",
       "      <td>49.785999</td>\n",
       "      <td>49.548031</td>\n",
       "    </tr>\n",
       "    <tr>\n",
       "      <th>9</th>\n",
       "      <td>43.472000</td>\n",
       "      <td>43.902309</td>\n",
       "    </tr>\n",
       "    <tr>\n",
       "      <th>10</th>\n",
       "      <td>297.000000</td>\n",
       "      <td>298.792985</td>\n",
       "    </tr>\n",
       "    <tr>\n",
       "      <th>11</th>\n",
       "      <td>38.782001</td>\n",
       "      <td>37.514021</td>\n",
       "    </tr>\n",
       "    <tr>\n",
       "      <th>12</th>\n",
       "      <td>7.708000</td>\n",
       "      <td>7.854999</td>\n",
       "    </tr>\n",
       "    <tr>\n",
       "      <th>13</th>\n",
       "      <td>43.888000</td>\n",
       "      <td>43.741643</td>\n",
       "    </tr>\n",
       "    <tr>\n",
       "      <th>14</th>\n",
       "      <td>53.790001</td>\n",
       "      <td>54.546685</td>\n",
       "    </tr>\n",
       "    <tr>\n",
       "      <th>15</th>\n",
       "      <td>4.650000</td>\n",
       "      <td>4.863741</td>\n",
       "    </tr>\n",
       "    <tr>\n",
       "      <th>16</th>\n",
       "      <td>43.529999</td>\n",
       "      <td>43.057718</td>\n",
       "    </tr>\n",
       "    <tr>\n",
       "      <th>17</th>\n",
       "      <td>62.924000</td>\n",
       "      <td>62.237457</td>\n",
       "    </tr>\n",
       "    <tr>\n",
       "      <th>18</th>\n",
       "      <td>6.426000</td>\n",
       "      <td>6.626711</td>\n",
       "    </tr>\n",
       "    <tr>\n",
       "      <th>19</th>\n",
       "      <td>51.400002</td>\n",
       "      <td>50.864539</td>\n",
       "    </tr>\n",
       "  </tbody>\n",
       "</table>\n",
       "</div>"
      ],
      "text/plain": [
       "        Actual   Predicted\n",
       "0    48.598000   48.287104\n",
       "1     5.348000    5.467965\n",
       "2    68.570000   67.815196\n",
       "3     6.430000    6.689864\n",
       "4    49.812000   50.574754\n",
       "5    50.004002   50.158020\n",
       "6    41.400002   41.855932\n",
       "7    24.690001   24.425176\n",
       "8    49.785999   49.548031\n",
       "9    43.472000   43.902309\n",
       "10  297.000000  298.792985\n",
       "11   38.782001   37.514021\n",
       "12    7.708000    7.854999\n",
       "13   43.888000   43.741643\n",
       "14   53.790001   54.546685\n",
       "15    4.650000    4.863741\n",
       "16   43.529999   43.057718\n",
       "17   62.924000   62.237457\n",
       "18    6.426000    6.626711\n",
       "19   51.400002   50.864539"
      ]
     },
     "execution_count": 16,
     "metadata": {},
     "output_type": "execute_result"
    }
   ],
   "source": [
    "data1 = pd.DataFrame({'Actual': y_test.flatten(), 'Predicted' : predicted.flatten()})\n",
    "data1.head(20)"
   ]
  },
  {
   "cell_type": "markdown",
   "id": "a1ac736a-e2fe-4db3-add1-41799525efe8",
   "metadata": {},
   "source": [
    "### Step 7: Validating the Fit"
   ]
  },
  {
   "cell_type": "code",
   "execution_count": 19,
   "id": "24e06bd0-d750-47f9-9981-3a89d91f58f1",
   "metadata": {},
   "outputs": [
    {
     "name": "stdout",
     "output_type": "stream",
     "text": [
      "Mean Absolute Error: 0.46916068356268714\n",
      "Mean Squared Error: 0.9033937318869631\n",
      "Root Mean Squared Error: 0.95047026880748\n"
     ]
    }
   ],
   "source": [
    "print('Mean Absolute Error:', metrics.mean_absolute_error(y_test,predicted))\n",
    "print('Mean Squared Error:', metrics.mean_squared_error(y_test,predicted))\n",
    "print('Root Mean Squared Error:', math.sqrt(metrics.mean_squared_error(y_test,predicted)))"
   ]
  },
  {
   "cell_type": "code",
   "execution_count": 20,
   "id": "defa300d-5ac0-4f43-aefa-826e3c7eab8b",
   "metadata": {},
   "outputs": [
    {
     "data": {
      "text/plain": [
       "<AxesSubplot:>"
      ]
     },
     "execution_count": 20,
     "metadata": {},
     "output_type": "execute_result"
    },
    {
     "data": {
      "image/png": "[encoded data removed]",
      "text/plain": [
       "<Figure size 432x288 with 1 Axes>"
      ]
     },
     "metadata": {
      "needs_background": "light"
     },
     "output_type": "display_data"
    }
   ],
   "source": [
    "graph = data1.head(20)\n",
    "graph.plot(kind='bar')"
   ]
  },
  {
   "cell_type": "code",
   "execution_count": null,
   "id": "19b875c7-fbcf-44fb-a48f-c2779536f72d",
   "metadata": {},
   "outputs": [],
   "source": []
  }
 ],
 "metadata": {
  "kernelspec": {
   "display_name": "Python 3",
   "language": "python",
   "name": "python3"
  },
  "language_info": {
   "codemirror_mode": {
    "name": "ipython",
    "version": 3
   },
   "file_extension": ".py",
   "mimetype": "text/x-python",
   "name": "python",
   "nbconvert_exporter": "python",
   "pygments_lexer": "ipython3",
   "version": "3.9.1"
  }
 },
 "nbformat": 4,
 "nbformat_minor": 5
}
