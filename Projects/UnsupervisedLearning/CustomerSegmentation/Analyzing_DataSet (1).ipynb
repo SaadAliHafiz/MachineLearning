{
 "cells": [
  {
   "cell_type": "markdown",
   "id": "e622aa47",
   "metadata": {},
   "source": [
    "# Analyzing and Knowing the Data Set"
   ]
  },
  {
   "cell_type": "markdown",
   "id": "94edda40",
   "metadata": {},
   "source": [
    "It is very important to know what all the data is present in the given data set We have to check whether there any null values or any undefined elements present in the data set So we have to make our data clean before we visualize or load the data. The Data set consists of 5 variables which are customer, age, gender, Annual Income, and spending scores"
   ]
  },
  {
   "cell_type": "markdown",
   "id": "03bbf8b8",
   "metadata": {},
   "source": [
    "First, we need to import all the necessary libraries and load the dataset which is in the form of CSV After importing we need to check whether the data got loaded by giving the code df. head The size of the data can be retrieved by giving the code df.info"
   ]
  },
  {
   "cell_type": "code",
   "execution_count": 2,
   "id": "94c9f3c5",
   "metadata": {},
   "outputs": [],
   "source": [
    "import numpy as np                              \n",
    "import pandas as pd"
   ]
  },
  {
   "cell_type": "code",
   "execution_count": 3,
   "id": "bc35a0c2",
   "metadata": {},
   "outputs": [],
   "source": [
    "import matplotlib.pyplot as plt\n",
    "import seaborn as sns"
   ]
  },
  {
   "cell_type": "code",
   "execution_count": 4,
   "id": "6856c9da",
   "metadata": {},
   "outputs": [
    {
     "data": {
      "text/plain": [
       "<bound method NDFrame.tail of      CustomerID  Gender  Age  Annual Income (k$)  Spending Score (1-100)\n",
       "0             1    Male   19                  15                      39\n",
       "1             2    Male   21                  15                      81\n",
       "2             3  Female   20                  16                       6\n",
       "3             4  Female   23                  16                      77\n",
       "4             5  Female   31                  17                      40\n",
       "..          ...     ...  ...                 ...                     ...\n",
       "195         196  Female   35                 120                      79\n",
       "196         197  Female   45                 126                      28\n",
       "197         198    Male   32                 126                      74\n",
       "198         199    Male   32                 137                      18\n",
       "199         200    Male   30                 137                      83\n",
       "\n",
       "[200 rows x 5 columns]>"
      ]
     },
     "execution_count": 4,
     "metadata": {},
     "output_type": "execute_result"
    }
   ],
   "source": [
    "df = pd.read_csv(\"Mall_Customers.csv\")\n",
    "df.head\n",
    "df.info\n",
    "df.tail\n",
    "# df.shape"
   ]
  },
  {
   "cell_type": "markdown",
   "id": "fc374f2d",
   "metadata": {},
   "source": [
    "As the data set got loaded now we have to find out gender distribution between males and females. This helps to know the average number of male and female customers who visits the mall"
   ]
  },
  {
   "cell_type": "code",
   "execution_count": 5,
   "id": "24c3c4e8",
   "metadata": {},
   "outputs": [],
   "source": [
    "genders=df.Gender.value_counts()"
   ]
  },
  {
   "cell_type": "code",
   "execution_count": 8,
   "id": "4a76b72b",
   "metadata": {},
   "outputs": [
    {
     "data": {
      "text/plain": [
       "<AxesSubplot:>"
      ]
     },
     "execution_count": 8,
     "metadata": {},
     "output_type": "execute_result"
    },
    {
     "data": {
      "image/png": "[encoded data removed]",
      "text/plain": [
       "<Figure size 432x288 with 1 Axes>"
      ]
     },
     "metadata": {
      "needs_background": "light"
     },
     "output_type": "display_data"
    }
   ],
   "source": [
    "sns.barplot(x=genders.index,y=genders.values)"
   ]
  },
  {
   "cell_type": "markdown",
   "id": "5384ffbd",
   "metadata": {},
   "source": [
    "The data consist of various customers with their ages now I have visualized the different customers with age groups This technique helps to know which age group visits the mall on a frequent basis so that we can easily target the customers. The code for the above can be written by defining the different age groups from 18-25,26-35,36-45,46-55 and >55 and plotting it in the form of a bar graph The code can be written as:"
   ]
  },
  {
   "cell_type": "code",
   "execution_count": 9,
   "id": "2ee3b03e",
   "metadata": {},
   "outputs": [],
   "source": [
    "age18_25 = df.Age[(df.Age<=25)&(df.Age>=18)]\n",
    "age26_35 = df.Age[(df.Age<=35)&(df.Age>=26)]\n",
    "age36_45 = df.Age[(df.Age<=45)&(df.Age>=36)]\n",
    "age46_55 = df.Age[(df.Age<=55)&(df.Age>=46)]\n",
    "age55above = df.Age[(df.Age>=56)]"
   ]
  },
  {
   "cell_type": "code",
   "execution_count": 10,
   "id": "c220cb3e",
   "metadata": {},
   "outputs": [],
   "source": [
    "x=[\"18-25\",\"26-35\",\"36-45\",\"46-55\",\"Above55\"]\n",
    "y=[len(age18_25.values), len(age26_35.values),len(age36_45.values),len(age46_55.values),len(age55above.values)]"
   ]
  },
  {
   "cell_type": "code",
   "execution_count": 11,
   "id": "71bd2e74",
   "metadata": {},
   "outputs": [
    {
     "data": {
      "image/png": "[encoded data removed]",
      "text/plain": [
       "<Figure size 1080x432 with 1 Axes>"
      ]
     },
     "metadata": {
      "needs_background": "light"
     },
     "output_type": "display_data"
    }
   ],
   "source": [
    "plt.figure(figsize=(15,6))\n",
    "plt.title=(\"Number of customers and ages\")\n",
    "plt.xlabel=(\"Ages\")\n",
    "plt.ylabel=(\"Number of customers\")\n",
    "sns.barplot(x=x,y=y)\n",
    "plt.show()"
   ]
  },
  {
   "cell_type": "code",
   "execution_count": null,
   "id": "26a64a38",
   "metadata": {},
   "outputs": [],
   "source": []
  }
 ],
 "metadata": {
  "kernelspec": {
   "display_name": "Python 3",
   "language": "python",
   "name": "python3"
  },
  "language_info": {
   "codemirror_mode": {
    "name": "ipython",
    "version": 3
   },
   "file_extension": ".py",
   "mimetype": "text/x-python",
   "name": "python",
   "nbconvert_exporter": "python",
   "pygments_lexer": "ipython3",
   "version": "3.9.1"
  }
 },
 "nbformat": 4,
 "nbformat_minor": 5
}
