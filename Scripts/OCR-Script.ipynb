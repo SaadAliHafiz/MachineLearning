{
 "cells": [
  {
   "cell_type": "code",
   "execution_count": 15,
   "id": "312ebd3d",
   "metadata": {},
   "outputs": [],
   "source": [
    "import cv2"
   ]
  },
  {
   "cell_type": "code",
   "execution_count": 16,
   "id": "8cee198a",
   "metadata": {},
   "outputs": [],
   "source": [
    "import pytesseract"
   ]
  },
  {
   "cell_type": "code",
   "execution_count": 12,
   "id": "c474f856",
   "metadata": {},
   "outputs": [],
   "source": [
    "pytesseract.pytesseract.tesseract_cmd = 'C:/Program Files (x86)/Tesseract-OCR/tesseract.exe'\n"
   ]
  },
  {
   "cell_type": "code",
   "execution_count": 13,
   "id": "f1a1aca5",
   "metadata": {},
   "outputs": [],
   "source": [
    "\n",
    "from pdf2image import convert_from_path\n",
    "images = convert_from_path(\"ALHABIB Forex_Rate_Sheet.pdf\", 500,poppler_path=r'C:/Users/shafiz006/Downloads/poppler-0.68.0/bin')\n",
    "for i, image in enumerate(images):\n",
    "    fname = 'image'+str(i)+'.png'\n",
    "    image.save(fname, \"PNG\")\n"
   ]
  },
  {
   "cell_type": "code",
   "execution_count": 14,
   "id": "2644003f",
   "metadata": {},
   "outputs": [
    {
     "name": "stdout",
     "output_type": "stream",
     "text": [
      "BAK AL HABIB LIMITED 7-2-2023\n",
      "\n",
      "SELLING COUNTRY BUYING UYINGO ﬁg\n",
      "\n",
      "RATE NAME RATE ‘/CHEQUBILL 30DAYS 60DAYS 90DAYS l20DAYS ISODAYS l80DAYS\n",
      "L/C 273.3798 271.4493 269.6394 267.8296 266.0197 264.1495\n",
      "NOT L/C 273.1460 270.9742 268.9381 266.9020 264.8659 262.7619\n",
      "9.3.:\n",
      "BILL 30DAYS 60DAYS 90DAYS l20DAYS l50DAYS l80DAYS\n",
      "40.5632 L/C 329.3535 327.2671 325.2879 323.3815 321.4167 319.3760\n",
      "NOT L/C 329.0719 326.6944 324.4418 322.2616 320.0227 317.6984\n",
      "EURO\n",
      "BILL 30DAYS 60DAYS 90DAYS l20DAYS ISODAYS l80DAYS\n",
      "L/C 293.9203 292.4223 290.9357 289.4232 287.9546 286.4139\n",
      "ﬂﬂﬂ 63.9049 NOT L/C 293.6690 291.9105 290.1790 288.4209 286.7057 284.9094\n",
      "J_f.’.!\n",
      "BILL 30DAYS 60DAYS 90DAYS 120DAYS l50DAYS l80DAYS\n",
      "L/C 2.0747 2.0694 2.0641 2.0603 2.0553 2.0499\n",
      "NOT L/C 2.0729 2.0658 2.0587 2.0532 2.0464 2.0391\n",
      "QA_D\n",
      "BILL 30DAYS 60DAYS 90DAYS l20DAYS ISODAYS l80DAYS\n",
      "L/C 203.6042 202.2228 200.9305 199.7257 198.4469 197.1221\n",
      "NOT L/C 203.4301 201.8688 200.4078 199.0340 197.5862 196.0866\n",
      "——-\n",
      "\n",
      "FORWARD RATE SHEET CONVERSION RATES\n",
      "\n",
      "EXPORT BOOKING The Conversion Rates\n",
      "USD GBP JPY CHF EURO DKK CAD As on 7-02-23 For\n",
      "\n",
      "IMONTH 275.60 332.03 2.0915 298.19 296.21 39.8279 205.26 --Frozen Foreign Currency Deposits\n",
      "ZMONTH 275.95 332.69 2.1037 299.63 297.07 39.9719 205.58 --DBC\\FCBC\n",
      "3MONTH 276.60 333.68 2.1174 301.17 298.15 40.1419 206.12 --Special USD Bonds and\n",
      "4MONTH 277.35 334.88 2.1335 303.01 299.31 40.3268 206.83 --Proﬁt on all the above\n",
      "SMONTH 278.20 336.13 2.1494 304.90 300.64 40.5331 207.53 will be as under :\n",
      "6MONTH 279.35 337.75 2.1678 307.14 302.30 40.7840 208.47\n",
      "\n",
      "USD 274.8998\n",
      "IMPORT BOOKING GBP 331.5292\n",
      "\n",
      "USD GBP JPY CIIF EURO DKK CAD EURO 296.4794\n",
      "IMONTH 276.60 333.23 2.0991 299.27 297.38 39.9724 206.00 JPY 2.0873\n",
      "ZMONTH 276.95 333.90 2.1113 300.71 298.35 40.1168 206.32\n",
      "3MONTH 277.60 334.89 2.1250 302.26 299.52 40.2871 206.86 LIBOR 5.1397\n",
      "4MONTH - .35 336.08 2.1412 304.10 300.79 40.4722 207.57\n",
      "SMONTH 9.20 337.34 2.1572 306.00 302.22 40.6788 208.28\n",
      "6MONTH 280.35 338.96 2.1756 308.24 303.98 40.9300 209.21\n",
      "\n",
      "AUTHO ’ATURE AUTHORIZE GNATURE\n",
      "\n",
      "REIGN EXCHANGE RATES ARE INDICATIVE AND SUBJECT To CHANGE DUE To MARKET CONDITIONS.\n",
      "\n",
      "NOT ’ 5- - 5 ’ TRANSACTION ABOVE US§ 5,000 OR EQUIVALENT, PLEASE TAKE THE RATES FROM TREASURY\n",
      "OTHERWISE THE TRANSACTION WILL NOT BE ACCEPTED.\n",
      "\n",
      "\n"
     ]
    }
   ],
   "source": [
    "img= cv2.imread('image0.png')\n",
    "text = pytesseract.image_to_string(img)\n",
    "print(text)"
   ]
  },
  {
   "cell_type": "code",
   "execution_count": null,
   "id": "0f07afb3",
   "metadata": {},
   "outputs": [],
   "source": []
  }
 ],
 "metadata": {
  "kernelspec": {
   "display_name": "Python 3 (ipykernel)",
   "language": "python",
   "name": "python3"
  },
  "language_info": {
   "codemirror_mode": {
    "name": "ipython",
    "version": 3
   },
   "file_extension": ".py",
   "mimetype": "text/x-python",
   "name": "python",
   "nbconvert_exporter": "python",
   "pygments_lexer": "ipython3",
   "version": "3.11.1"
  }
 },
 "nbformat": 4,
 "nbformat_minor": 5
}
